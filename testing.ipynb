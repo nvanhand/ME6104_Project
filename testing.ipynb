{
 "cells": [
  {
   "cell_type": "code",
   "execution_count": 1,
   "metadata": {},
   "outputs": [],
   "source": [
    "import pyvista as pv \n",
    "import numpy as np\n",
    "import os\n",
    "from glob import glob"
   ]
  },
  {
   "cell_type": "code",
   "execution_count": 2,
   "metadata": {},
   "outputs": [],
   "source": [
    "src = os.path.join(os.getcwd(), 'test_models')\n",
    "examples = glob(src + '/*.stl')\n",
    "\n",
    "f = examples[0]\n",
    "model = pv.read(f)"
   ]
  },
  {
   "cell_type": "code",
   "execution_count": 45,
   "metadata": {},
   "outputs": [
    {
     "data": {
      "text/html": [
       "\n",
       "<table style='width: 100%;'>\n",
       "<tr><th>PolyData</th><th>Information</th></tr>\n",
       "<tr><td>N Cells</td><td>574</td></tr>\n",
       "<tr><td>N Points</td><td>289</td></tr>\n",
       "<tr><td>N Strips</td><td>0</td></tr>\n",
       "<tr><td>X Bounds</td><td>9.947e+02, 1.051e+03</td></tr>\n",
       "<tr><td>Y Bounds</td><td>9.587e+01, 1.721e+02</td></tr>\n",
       "<tr><td>Z Bounds</td><td>0.000e+00, 8.199e+01</td></tr>\n",
       "<tr><td>N Arrays</td><td>0</td></tr>\n",
       "</table>\n",
       "\n"
      ],
      "text/plain": [
       "PolyData (0x36677e2c0)\n",
       "  N Cells:    574\n",
       "  N Points:   289\n",
       "  N Strips:   0\n",
       "  X Bounds:   9.947e+02, 1.051e+03\n",
       "  Y Bounds:   9.587e+01, 1.721e+02\n",
       "  Z Bounds:   0.000e+00, 8.199e+01\n",
       "  N Arrays:   0"
      ]
     },
     "execution_count": 45,
     "metadata": {},
     "output_type": "execute_result"
    }
   ],
   "source": [
    "smoothed = model.smooth(feature_smoothing=True, convergence=0.01, edge_angle=1)\n",
    "smoothed"
   ]
  },
  {
   "cell_type": "code",
   "execution_count": 43,
   "metadata": {},
   "outputs": [
    {
     "data": {
      "application/vnd.jupyter.widget-view+json": {
       "model_id": "3590307d351f4d97b1cb4eef9cc23ff5",
       "version_major": 2,
       "version_minor": 0
      },
      "text/plain": [
       "Widget(value='<iframe src=\"http://localhost:53768/index.html?ui=P_0x30c745220_8&reconnect=auto\" class=\"pyvista…"
      ]
     },
     "metadata": {},
     "output_type": "display_data"
    }
   ],
   "source": [
    "smoothed.plot()"
   ]
  },
  {
   "cell_type": "code",
   "execution_count": null,
   "metadata": {},
   "outputs": [],
   "source": [
    "#Sample mesh to get voxelization\n",
    "#vox = pv.voxelize(model, 0.5)\n",
    "\n",
    "#rot = vox.rotate_z(90)\n",
    "#rot.plot()\n"
   ]
  },
  {
   "cell_type": "code",
   "execution_count": null,
   "metadata": {},
   "outputs": [
    {
     "data": {
      "application/vnd.jupyter.widget-view+json": {
       "model_id": "23e8315d6f1143b8a73af60b17fcfeb0",
       "version_major": 2,
       "version_minor": 0
      },
      "text/plain": [
       "Widget(value='<iframe src=\"http://localhost:53768/index.html?ui=P_0x301e50b30_3&reconnect=auto\" class=\"pyvista…"
      ]
     },
     "metadata": {},
     "output_type": "display_data"
    }
   ],
   "source": []
  }
 ],
 "metadata": {
  "kernelspec": {
   "display_name": "Python 3",
   "language": "python",
   "name": "python3"
  },
  "language_info": {
   "codemirror_mode": {
    "name": "ipython",
    "version": 3
   },
   "file_extension": ".py",
   "mimetype": "text/x-python",
   "name": "python",
   "nbconvert_exporter": "python",
   "pygments_lexer": "ipython3",
   "version": "3.12.2"
  }
 },
 "nbformat": 4,
 "nbformat_minor": 2
}
